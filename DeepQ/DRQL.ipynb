{
 "cells": [
  {
   "cell_type": "markdown",
   "id": "a88fd854-ea38-4d6a-b848-a2daba274b98",
   "metadata": {},
   "source": [
    "# [Deep Recurrent Q-Learning for Partially Observable MDPs](https://arxiv.org/pdf/1507.06527.pdf)"
   ]
  },
  {
   "cell_type": "code",
   "execution_count": 1,
   "id": "6f995426-f8ae-4056-a254-6a0fa1414d38",
   "metadata": {
    "ExecuteTime": {
     "end_time": "2023-08-12T13:44:07.013500600Z",
     "start_time": "2023-08-12T13:44:05.568971900Z"
    }
   },
   "outputs": [
    {
     "name": "stdout",
     "output_type": "stream",
     "text": [
      "cuda\n"
     ]
    }
   ],
   "source": [
    "import torch\n",
    "import matplotlib\n",
    "import matplotlib.pyplot as plt\n",
    "\n",
    "is_ipython = 'inline' in matplotlib.get_backend()\n",
    "if is_ipython:\n",
    "    from IPython import display\n",
    "\n",
    "plt.ion()\n",
    "\n",
    "# if gpu is to be used\n",
    "device = torch.device(\"cuda\" if torch.cuda.is_available() else \"cpu\")\n",
    "print(device)"
   ]
  },
  {
   "cell_type": "code",
   "execution_count": 2,
   "id": "5b790c38-95b8-45a4-8c04-78d15fd57df2",
   "metadata": {
    "ExecuteTime": {
     "end_time": "2023-08-12T13:44:07.018235800Z",
     "start_time": "2023-08-12T13:44:07.016731Z"
    }
   },
   "outputs": [],
   "source": [
    "from dataclasses import dataclass\n",
    "\n",
    "@dataclass\n",
    "class Config:\n",
    "    # Torch Parameters\n",
    "    device: torch.device\n",
    "    \n",
    "    # Enviroment Parameters\n",
    "    n_states: int\n",
    "    n_actions: int\n",
    "\n",
    "    # Net Parameters\n",
    "    hidden_size = 64\n",
    "    hidden_layers = 1\n",
    "\n",
    "    # Memory Parameters\n",
    "    rm_size: int\n",
    "    \n",
    "    # Learning Hyperparameters\n",
    "    batch_size: int\n",
    "    epochs: int\n",
    "    lr: float\n",
    "    gamma: float\n",
    "    update_rate: int\n",
    "    epsilon_decay_begin: int\n",
    "    epsilon_decay_end: int\n",
    "    epsilon: callable\n",
    "    save_rate: int\n",
    "    num_workers: int\n",
    "    optimize_times: int\n",
    "    optimize_rate: int\n"
   ]
  },
  {
   "cell_type": "code",
   "execution_count": 3,
   "id": "4749132c-3aab-4f8f-9a7f-9dc189ca8870",
   "metadata": {
    "ExecuteTime": {
     "end_time": "2023-08-12T13:44:07.024139300Z",
     "start_time": "2023-08-12T13:44:07.021456600Z"
    }
   },
   "outputs": [],
   "source": [
    "from collections import deque, namedtuple\n",
    "import random\n",
    "\n",
    "\n",
    "Transition = namedtuple('Transition', ('state', 'action', 'next_state', 'reward'))\n",
    "Run = namedtuple(\"Run\", ('states', 'actions', 'rewards'))\n",
    "\n",
    "\n",
    "class ReplayMemory():\n",
    "\n",
    "    def __init__(self, capacity):\n",
    "        self.memory = deque([], maxlen=capacity)\n",
    "\n",
    "    def push(self, *args):\n",
    "        self.memory.append(Run(*args))\n",
    "\n",
    "    def sample(self, batch_size):\n",
    "        return random.sample(list(self.memory), batch_size)\n",
    "\n",
    "    def __len__(self):\n",
    "        return len(self.memory)"
   ]
  },
  {
   "cell_type": "code",
   "execution_count": 4,
   "id": "d56006fe-3931-4af2-90a5-c29bedb2c04f",
   "metadata": {
    "ExecuteTime": {
     "end_time": "2023-08-12T13:54:39.827835800Z",
     "start_time": "2023-08-12T13:54:37.953052300Z"
    }
   },
   "outputs": [],
   "source": [
    "import torch.nn as nn\n",
    "\n",
    "\n",
    "class DRQN(nn.Module):\n",
    "    def __init__(self, input_size, output_size, hidden_size=128, hidden_layers=1):\n",
    "        super(DRQN, self).__init__()\n",
    "        self.lstm = nn.LSTM(input_size, hidden_size, hidden_layers, batch_first=True)\n",
    "        self.out = nn.Linear(hidden_size, output_size)\n",
    "      \n",
    "    def forward(self, x, i=None):\n",
    "        if i is not None:\n",
    "            x, i = self.lstm(x, i)\n",
    "        else:\n",
    "            x, i = self.lstm(x)\n",
    "        return self.out(x), i\n"
   ]
  },
  {
   "cell_type": "code",
   "execution_count": 5,
   "id": "25d6320f",
   "metadata": {
    "ExecuteTime": {
     "end_time": "2023-08-12T14:31:12.498386700Z",
     "start_time": "2023-08-12T14:31:09.902015400Z"
    },
    "collapsed": false,
    "jupyter": {
     "outputs_hidden": false
    }
   },
   "outputs": [],
   "source": [
    "import torch\n",
    "import torch.optim as optim\n",
    "import torch.nn as nn\n",
    "from torch.nn.utils.rnn import pad_sequence\n",
    "import random\n",
    "\n",
    "\n",
    "class DRQN_Agent:\n",
    "    def __init__(self, net:nn.Module, config:Config, path=None):\n",
    "        self.config = config\n",
    "\n",
    "        self.target_net = net(self.config.n_states, self.config.n_actions).to(self.config.device)\n",
    "\n",
    "        if path:\n",
    "            self.q_net = torch.load(path).to(self.config.device)\n",
    "        else:\n",
    "            self.q_net = net(self.config.n_states, self.config.n_actions).to(self.config.device)\n",
    "\n",
    "        self.target_net.load_state_dict(self.q_net.state_dict())\n",
    "        self.target_net.eval()\n",
    "\n",
    "        self.optimizer = optim.Adam(self.q_net.parameters(), lr=self.config.lr)\n",
    "        self.memory = ReplayMemory(self.config.rm_size)\n",
    "\n",
    "        self.criterion = nn.MSELoss()\n",
    "\n",
    "    def update_target_net(self):\n",
    "        self.target_net.load_state_dict(self.q_net.state_dict())\n",
    "\n",
    "    def add_to_memory(self, *args):\n",
    "        self.memory.push(*args)\n",
    "\n",
    "    def select_action(self, state, i=None, epsilon=0):\n",
    "        with torch.no_grad():\n",
    "            x, i = self.q_net(state.view(-1, 8), i)\n",
    "\n",
    "        if random.random() < epsilon:\n",
    "            # Explore: take a random action\n",
    "            return torch.tensor([random.randrange(self.config.n_actions)], device=self.config.device, dtype=torch.long), i\n",
    "        else:\n",
    "            # Exploit: select the highest Q value\n",
    "            return x.max(1)[1][-1].view(1), i\n",
    "\n",
    "    def Q(self, state, action):\n",
    "        state = pad_sequence(state, batch_first=True)\n",
    "        action = pad_sequence(action, batch_first=True)\n",
    "\n",
    "        x, _= self.q_net(state)\n",
    "        return x.gather(2, action.view(self.config.batch_size, -1, 1))\n",
    "\n",
    "    def target(self, state, reward):\n",
    "        state = pad_sequence(state, batch_first=True)\n",
    "        reward = pad_sequence(reward, batch_first=True)\n",
    "\n",
    "        x, _ = self.target_net(state)\n",
    "        Q_target = x.max(2)[0].detach()\n",
    "\n",
    "        \n",
    "        return (Q_target * self.config.gamma) + reward\n",
    "\n",
    "    def optimize(self):\n",
    "        if len(self.memory) < self.config.batch_size:\n",
    "            return\n",
    "\n",
    "        batch = Run(*zip(*self.memory.sample(self.config.batch_size)))\n",
    "\n",
    "        next_state_batch = (i[3:] for i in batch.states)\n",
    "        state_batch = (i[:-3] for i in batch.states)\n",
    "        action_batch = batch.actions\n",
    "        reward_batch = batch.rewards\n",
    "\n",
    "        self.optimizer.zero_grad()\n",
    "\n",
    "        # state_batch.shape = (N x L x states)\n",
    "        # action_batch.shape = (N x L x 1)\n",
    "        y = self.Q(state_batch, action_batch).view(self.config.batch_size, -1)\n",
    "\n",
    "        # next_state_batch.shape = (N x L x states)\n",
    "        # reward_batch.shape = (N x L x 1)\n",
    "        yl = self.target(next_state_batch, reward_batch).view(self.config.batch_size, -1)\n",
    "\n",
    "        loss = self.criterion(y, yl)\n",
    "\n",
    "        loss.backward()\n",
    "        self.optimizer.step()\n",
    "\n",
    "        return loss.cpu().data.item()\n",
    "\n",
    "    def save(self, name):\n",
    "        torch.save(self.q_net, name)\n"
   ]
  },
  {
   "cell_type": "code",
   "execution_count": 6,
   "id": "21a6ec3a-477d-4d41-8090-66621d03cd03",
   "metadata": {},
   "outputs": [],
   "source": [
    "from itertools import count\n",
    "import numpy as np\n",
    "from game import Env\n",
    "from map_gen import generate_map\n",
    "import pickle\n",
    "\n",
    "def get_eps(x):\n",
    "    return 1-.002*(x)\n",
    "    \n",
    "config = Config(\n",
    "    device = device,\n",
    "    n_states = 8,\n",
    "    n_actions = 6,\n",
    "    rm_size = 100,\n",
    "    batch_size = 64,\n",
    "    epochs = 3000,\n",
    "    update_rate = 100,\n",
    "    lr = 0.002,\n",
    "    gamma = 0.8,\n",
    "    epsilon = get_eps,\n",
    "    epsilon_decay_begin = 1000,\n",
    "    epsilon_decay_end = 2000,\n",
    "    save_rate = 100,\n",
    "    optimize_rate = 2,\n",
    "    num_workers = 1,\n",
    "    optimize_times = 10\n",
    ")\n",
    "\n",
    "\n",
    "\n",
    "train_log = {\n",
    "    'ep': [],\n",
    "    'reward': [],\n",
    "    'loss': [],\n",
    "    'size': [],\n",
    "    'n_obs': []\n",
    "}\n",
    "\n",
    "agent = DRQN_Agent(DRQN, config, path=\"net_last.pt\")\n",
    "\n",
    "with open('rm_data.pkl', 'rb') as inp:\n",
    "    agent.memory = pickle.load(inp)"
   ]
  },
  {
   "cell_type": "code",
   "execution_count": 7,
   "id": "8e9ad3c9",
   "metadata": {
    "collapsed": false,
    "jupyter": {
     "outputs_hidden": false
    }
   },
   "outputs": [],
   "source": [
    "def play(model, epsilon, size, n_obstacles):\n",
    "    print(\"runing play\")\n",
    "    game = Env()\n",
    "\n",
    "    states = []\n",
    "    rewards =  []\n",
    "    actions = []\n",
    "\n",
    "    state, done =  game.start(generate_map(size, n_obstacles))\n",
    "\n",
    "    i = None\n",
    "    for _ in count():\n",
    "\n",
    "        states.append(state)\n",
    "\n",
    "        # Select and perform an action\n",
    "        action, i = model(state, i, epsilon)\n",
    "        actions.append(action)\n",
    "        actions.append(action)\n",
    "        actions.append(action)\n",
    "\n",
    "        next_state, reward, done = game.step(action)\n",
    "\n",
    "        reward = torch.tensor([reward], device=config.device)\n",
    "        rewards.append(reward)\n",
    "        rewards.append(reward)\n",
    "        rewards.append(reward)\n",
    "\n",
    "        next_state = torch.tensor(next_state, device=config.device, dtype=torch.float)\n",
    "\n",
    "        # Move to the next state\n",
    "        state = next_state\n",
    "\n",
    "        if done:\n",
    "            states.append(state)\n",
    "            del game\n",
    "            return torch.cat(states), torch.cat(actions), torch.cat(rewards)\n"
   ]
  },
  {
   "cell_type": "code",
   "execution_count": 8,
   "id": "7671b6ba-fcaa-48d3-a814-50f02613a17e",
   "metadata": {
    "ExecuteTime": {
     "end_time": "2023-08-12T14:28:05.016102Z",
     "start_time": "2023-08-12T14:26:58.841330600Z"
    }
   },
   "outputs": [
    {
     "name": "stdout",
     "output_type": "stream",
     "text": [
      "runing play\n",
      "[]\n"
     ]
    },
    {
     "ename": "ValueError",
     "evalue": "Type must be a sub-type of ndarray type",
     "output_type": "error",
     "traceback": [
      "\u001B[1;31m---------------------------------------------------------------------------\u001B[0m",
      "\u001B[1;31mValueError\u001B[0m                                Traceback (most recent call last)",
      "Cell \u001B[1;32mIn[8], line 20\u001B[0m\n\u001B[0;32m     17\u001B[0m size \u001B[38;5;241m=\u001B[39m levels[current_lvl][\u001B[38;5;241m0\u001B[39m]\n\u001B[0;32m     18\u001B[0m n_obstacles \u001B[38;5;241m=\u001B[39m random\u001B[38;5;241m.\u001B[39mrandint(\u001B[38;5;241m0\u001B[39m, levels[current_lvl][\u001B[38;5;241m1\u001B[39m])\n\u001B[1;32m---> 20\u001B[0m out \u001B[38;5;241m=\u001B[39m \u001B[43mplay\u001B[49m\u001B[43m(\u001B[49m\u001B[43magent\u001B[49m\u001B[38;5;241;43m.\u001B[39;49m\u001B[43mselect_action\u001B[49m\u001B[43m,\u001B[49m\u001B[43m \u001B[49m\u001B[43mepsilon\u001B[49m\u001B[43m,\u001B[49m\u001B[43m \u001B[49m\u001B[43msize\u001B[49m\u001B[43m,\u001B[49m\u001B[43m \u001B[49m\u001B[43mn_obstacles\u001B[49m\u001B[43m)\u001B[49m\n\u001B[0;32m     23\u001B[0m log \u001B[38;5;241m=\u001B[39m {\n\u001B[0;32m     24\u001B[0m     \u001B[38;5;124m'\u001B[39m\u001B[38;5;124mloss\u001B[39m\u001B[38;5;124m'\u001B[39m: [],\n\u001B[0;32m     25\u001B[0m     \u001B[38;5;124m'\u001B[39m\u001B[38;5;124mreward\u001B[39m\u001B[38;5;124m'\u001B[39m: \u001B[38;5;241m0\u001B[39m\n\u001B[0;32m     26\u001B[0m }\n\u001B[0;32m     28\u001B[0m log[\u001B[38;5;124m'\u001B[39m\u001B[38;5;124mreward\u001B[39m\u001B[38;5;124m'\u001B[39m] \u001B[38;5;241m+\u001B[39m\u001B[38;5;241m=\u001B[39m torch\u001B[38;5;241m.\u001B[39msum(out[\u001B[38;5;241m2\u001B[39m])\u001B[38;5;241m.\u001B[39mcpu()\u001B[38;5;241m.\u001B[39mdata\u001B[38;5;241m.\u001B[39mitem()\n",
      "Cell \u001B[1;32mIn[7], line 17\u001B[0m, in \u001B[0;36mplay\u001B[1;34m(model, epsilon, size, n_obstacles)\u001B[0m\n\u001B[0;32m     14\u001B[0m states\u001B[38;5;241m.\u001B[39mappend(state)\n\u001B[0;32m     16\u001B[0m \u001B[38;5;66;03m# Select and perform an action\u001B[39;00m\n\u001B[1;32m---> 17\u001B[0m action, i \u001B[38;5;241m=\u001B[39m \u001B[43mmodel\u001B[49m\u001B[43m(\u001B[49m\u001B[43mstate\u001B[49m\u001B[43m,\u001B[49m\u001B[43m \u001B[49m\u001B[43mi\u001B[49m\u001B[43m,\u001B[49m\u001B[43m \u001B[49m\u001B[43mepsilon\u001B[49m\u001B[43m)\u001B[49m\n\u001B[0;32m     18\u001B[0m actions\u001B[38;5;241m.\u001B[39mappend(action)\n\u001B[0;32m     19\u001B[0m actions\u001B[38;5;241m.\u001B[39mappend(action)\n",
      "Cell \u001B[1;32mIn[5], line 35\u001B[0m, in \u001B[0;36mDRQN_Agent.select_action\u001B[1;34m(self, state, i, epsilon)\u001B[0m\n\u001B[0;32m     33\u001B[0m \u001B[38;5;28;01mdef\u001B[39;00m \u001B[38;5;21mselect_action\u001B[39m(\u001B[38;5;28mself\u001B[39m, state, i\u001B[38;5;241m=\u001B[39m\u001B[38;5;28;01mNone\u001B[39;00m, epsilon\u001B[38;5;241m=\u001B[39m\u001B[38;5;241m0\u001B[39m):\n\u001B[0;32m     34\u001B[0m     \u001B[38;5;28;01mwith\u001B[39;00m torch\u001B[38;5;241m.\u001B[39mno_grad():\n\u001B[1;32m---> 35\u001B[0m         x, i \u001B[38;5;241m=\u001B[39m \u001B[38;5;28mself\u001B[39m\u001B[38;5;241m.\u001B[39mq_net(\u001B[43mstate\u001B[49m\u001B[38;5;241;43m.\u001B[39;49m\u001B[43mview\u001B[49m\u001B[43m(\u001B[49m\u001B[38;5;241;43m-\u001B[39;49m\u001B[38;5;241;43m1\u001B[39;49m\u001B[43m,\u001B[49m\u001B[43m \u001B[49m\u001B[38;5;241;43m8\u001B[39;49m\u001B[43m)\u001B[49m, i)\n\u001B[0;32m     37\u001B[0m     \u001B[38;5;28;01mif\u001B[39;00m random\u001B[38;5;241m.\u001B[39mrandom() \u001B[38;5;241m<\u001B[39m epsilon:\n\u001B[0;32m     38\u001B[0m         \u001B[38;5;66;03m# Explore: take a random action\u001B[39;00m\n\u001B[0;32m     39\u001B[0m         \u001B[38;5;28;01mreturn\u001B[39;00m torch\u001B[38;5;241m.\u001B[39mtensor([random\u001B[38;5;241m.\u001B[39mrandrange(\u001B[38;5;28mself\u001B[39m\u001B[38;5;241m.\u001B[39mconfig\u001B[38;5;241m.\u001B[39mn_actions)], device\u001B[38;5;241m=\u001B[39m\u001B[38;5;28mself\u001B[39m\u001B[38;5;241m.\u001B[39mconfig\u001B[38;5;241m.\u001B[39mdevice, dtype\u001B[38;5;241m=\u001B[39mtorch\u001B[38;5;241m.\u001B[39mlong), i\n",
      "\u001B[1;31mValueError\u001B[0m: Type must be a sub-type of ndarray type"
     ]
    }
   ],
   "source": [
    "import torch.multiprocessing as mp\n",
    "\n",
    "\n",
    "levels = [\n",
    "    (3, 0),\n",
    "    (3, 1),\n",
    "    (5, 1),\n",
    "    (5, 2),\n",
    "    (7, 3),\n",
    "    (7, 5),\n",
    "    (10, 7)\n",
    "]\n",
    "\n",
    "current_lvl = 0\n",
    "for epoch in count():\n",
    "    epsilon = config.epsilon(epoch)\n",
    "    size = levels[current_lvl][0]\n",
    "    n_obstacles = random.randint(0, levels[current_lvl][1])\n",
    "\n",
    "    out = play(agent.select_action, epsilon, size, n_obstacles)\n",
    "\n",
    "\n",
    "    log = {\n",
    "        'loss': [],\n",
    "        'reward': 0\n",
    "    }\n",
    "\n",
    "    log['reward'] += torch.sum(out[2]).cpu().data.item()\n",
    "    agent.add_to_memory(*out)\n",
    "\n",
    "    for _ in range(config.optimize_times):\n",
    "        log['loss'].append(agent.optimize())\n",
    "\n",
    "    log[\"loss\"] = np.asarray(log[\"loss\"])\n",
    "    log[\"loss\"] = log[\"loss\"][log[\"loss\"] != np.array(None)]\n",
    "    train_log['ep'].append(epoch)\n",
    "    train_log['loss'].append(log['loss'])\n",
    "    train_log['reward'].append(log['reward'])\n",
    "    train_log['size'].append(levels[current_lvl][0])\n",
    "    train_log['n_obs'].append(levels[current_lvl][1])\n",
    "    print(\"------------------------------------------------\")\n",
    "    print(f\"Epoch {epoch} - Epsilon {epsilon} - Level {current_lvl}\")\n",
    "    print(f\"Reward: {log['reward']}\")\n",
    "    print(f\"Loss: {log['loss'].mean()}\")# +/- {log['loss'].std()}\")\n",
    "\n",
    "    # Update the target network, copying all weights and biases in DQN\n",
    "    if not epoch % config.update_rate:\n",
    "        agent.update_target_net()\n",
    "\n",
    "    if not epoch % config.save_rate:\n",
    "        agent.save(\"net.pt\")\n",
    "\n",
    "    if log['reward'] >= 100:\n",
    "        current_lvl += 1\n"
   ]
  },
  {
   "cell_type": "code",
   "execution_count": null,
   "id": "28b96ce6-67cb-4b2c-a1b9-89ca5a47738c",
   "metadata": {},
   "outputs": [],
   "source": [
    "# SAVE RM\n",
    "import pickle\n",
    "\n",
    "with open('rm_data.pkl', 'wb') as outp:\n",
    "    pickle.dump(agent.memory, outp, pickle.HIGHEST_PROTOCOL)"
   ]
  }
 ],
 "metadata": {
  "kernelspec": {
   "display_name": "Python 3 (ipykernel)",
   "language": "python",
   "name": "python3"
  },
  "language_info": {
   "codemirror_mode": {
    "name": "ipython",
    "version": 3
   },
   "file_extension": ".py",
   "mimetype": "text/x-python",
   "name": "python",
   "nbconvert_exporter": "python",
   "pygments_lexer": "ipython3",
   "version": "3.11.4"
  }
 },
 "nbformat": 4,
 "nbformat_minor": 5
}
